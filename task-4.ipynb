import pandas as pd
import numpy as np 
import matplotlib.pyplot as plt
import seaborn as sns 
from sklearn.model_selection import train_test_split
from sklearn.linear_model import LinearRegression 
from sklearn.metrics import mean_squared_error, r2_score 


#load the dataset 
data = pd.read_csv('House Price India.csv')
print("first 5 rows of the dataset:")
print(data.head())

#dataset info
print("\ndataset information:")
print(data.info())

#check for missing values 
print("\n missiong values:")
print(data.isnull().sum())

data['Size'].fillna(data['Size'].median(), inplace=True)
data['Number of Rooms'].fillna(data['Number of Rooms'].median(), inplace=True)

#handle outliers
upper_limit=data['Price'].quantile(0.95)
data['Price'] = np.where(data['Price']> upper_limit, upper_limit, data['Price'])


#encoding the location column using one hot encoding 
data = pd.get_dummies(data, cloumn =['Location'],drop_first=True)
print("dataset after encoding ")
print(data.head())

from sklearn.preprocessing import MinMaxScaler

scaler= MinMaxScaler()
data[['Size','Number of Rooms']]= scaler.fit_transform(data[['Size', 'Number of Rooms']])

#define features and target variables 
X=data.drop('Price', axis =1)
y=data['Price']

#split the dataset into training and testing sets  
X_train, X_test, y_train, y_test= train_test_split(X,y, test_size=0.2, random_state=42)

print(f"Training set size : {X_train.shape}")
print(f"Testing set size: {X_test.shape}")

#initialize and train the model 
model = LinearRegression()
model.fit(X_train,y_train)

#display coefficients
print("Model coefficients:",model.coef_)
print("Inercept:", model.intercept_)


#make prediction on the test set 
y_pred= model.predict(X_test)

#evaluate the model 
rmse = np.sqrt(mean_squared_error(y_test, y_pred))
r2=r2_score(y_test, y_pred)

print(f"RMSE: {rmse:.2f}")
print(f"R^2: {r2:.2f}")

#scatter plito of actual vs predicted prices 
plt.figure(figsize=(8,6))
plt.scatter(y_test, y_pred, alpha=0.7)
plt.title("Actual vs Predicted Prices")
plt.xlabel("Actual Prices ")
plt.ylabel("predicted Prices ")
plt.show()

#residual plot 
residuals= y_test - y_pred
plt.figure(figsize=(8,6))
sns.histplot(residuals, kde=True , bins=30, color='blue')
plt.title("Distribution of residuals")
plt.xlabel("residuals")
plt.show()
